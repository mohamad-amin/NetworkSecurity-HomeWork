{
 "cells": [
  {
   "cell_type": "markdown",
   "metadata": {
    "collapsed": true
   },
   "source": [
    "# Network Security - Home Work 2\n",
    "### Mohamad Amin Mohamadi(9431020)\n",
    "\n",
    "## Question 1\n",
    "------"
   ]
  },
  {
   "cell_type": "code",
   "execution_count": 44,
   "metadata": {
    "collapsed": true
   },
   "outputs": [],
   "source": [
    "import hashlib\n",
    "\n",
    "secret = 'If you want to keep a secret, you must also hide it from yourself'\n",
    "md5_hasher = hashlib.md5(secret)\n",
    "sha256_hasher = hashlib.sha256(secret)\n",
    "\n",
    "original_hashed_md5 = md5_hasher.hexdigest()\n",
    "original_hashed_sha256 = sha256_hasher.hexdigest()\n",
    "\n",
    "new_secret = secret[:-1]\n",
    "md5_hasher = hashlib.md5(new_secret)\n",
    "sha256_hasher = hashlib.sha256(new_secret)\n",
    "\n",
    "new_hashed_md5 = md5_hasher.hexdigest()\n",
    "new_hashed_sha256 = sha256_hasher.hexdigest()"
   ]
  },
  {
   "cell_type": "code",
   "execution_count": 45,
   "metadata": {
    "collapsed": false
   },
   "outputs": [
    {
     "name": "stdout",
     "output_type": "stream",
     "text": [
      "Secret: If you want to keep a secret, you must also hide it from yourself\nModified secret: If you want to keep a secret, you must also hide it from yoursel\n\nOriginal MD5 hashed secret: f868791dabbbba52bf6e7d9ca445a44b\nOriginal SHA256 hashed secret: aca0ba757235a44b8addac6f6419ecdbd37dcdd01661864e47de2ccf1bdef3b9\nNew MD5 hashed secret: 1e150ee046e4e0a49278b4b5a2fb3373\nNew SHA256 hashed secret: 2582a5842ca92be4d6dd5045a8b5a73f77721cdf81729b25566adfc70711e9bc\nMD5 bit differences: 76\nSHA256 bit differences: 123\n"
     ]
    }
   ],
   "source": [
    "def hex_to_binary(hex_str):\n",
    "    binary = bin(int(hex_str, 16))[2:]\n",
    "    while len(binary) % 16 != 0:\n",
    "        binary = '0' + binary\n",
    "    return binary\n",
    "\n",
    "\n",
    "print('Secret: %s' % secret)\n",
    "print('Modified secret: %s\\n' % new_secret)\n",
    "\n",
    "print('Original MD5 hashed secret: %s' % original_hashed_md5)\n",
    "print('Original SHA256 hashed secret: %s' % original_hashed_sha256)\n",
    "\n",
    "print('New MD5 hashed secret: %s' % new_hashed_md5)\n",
    "print('New SHA256 hashed secret: %s' % new_hashed_sha256)\n",
    "\n",
    "original_md5_in_bin = hex_to_binary(original_hashed_md5)\n",
    "original_sha256_in_bin = hex_to_binary(original_hashed_sha256)\n",
    "\n",
    "new_md5_in_bin = hex_to_binary(new_hashed_md5)\n",
    "new_sha256_in_bin = hex_to_binary(new_hashed_sha256)\n",
    "\n",
    "md5_diff = 0\n",
    "sha256_diff = 0\n",
    "\n",
    "for i in range(len(original_md5_in_bin)):\n",
    "    if original_md5_in_bin[i] != new_md5_in_bin[i]:\n",
    "        md5_diff += 1\n",
    "\n",
    "for i in range(len(original_sha256_in_bin)):\n",
    "    if original_sha256_in_bin[i] != new_sha256_in_bin[i]:\n",
    "        sha256_diff += 1\n",
    "        \n",
    "print 'MD5 bit differences: %d' % md5_diff\n",
    "print 'SHA256 bit differences: %d' % sha256_diff"
   ]
  },
  {
   "cell_type": "markdown",
   "metadata": {},
   "source": [
    "## Question 2\n",
    "--------"
   ]
  },
  {
   "cell_type": "code",
   "execution_count": 46,
   "metadata": {
    "collapsed": false
   },
   "outputs": [
    {
     "name": "stdout",
     "output_type": "stream",
     "text": [
      "DES encrypted data in HEX format: 6cbd22858bcedb79aba1a7be2214c542\nDES Decryption: 0123456789ABCDEF\n"
     ]
    }
   ],
   "source": [
    "import pyDes\n",
    "\n",
    "key = '133457799BBCDFF1'.decode('hex')\n",
    "plain_text = '0123456789ABCDEF'\n",
    "desEncrypter = pyDes.des(key)\n",
    "encryptedData = desEncrypter.encrypt(plain_text)\n",
    "print('DES encrypted data in HEX format: %s' % encryptedData.encode('hex'))\n",
    "\n",
    "print('DES Decryption: %s' % desEncrypter.decrypt(encryptedData))"
   ]
  },
  {
   "cell_type": "markdown",
   "metadata": {},
   "source": [
    "## Question 3\n",
    "We used the analyzer and did a brute force attack to find the shift number.\n",
    "The shift was *16* and here's the decrypted plain text:\n",
    "> The Caesar Cipher technique is one of the earliest and simplest method of encryption technique. It’s simply a type of substitution cipher, i.e., each letter of a given text is replaced by a letter some fixed number of positions down the alphabet. For example with a shift of 1, A would be replaced by B, B would become C, and so on. The method is apparently named after Julius Caesar, who apparently used it to\n",
    "communicate with his officials.\\\n",
    "Thus to cipher a given text we need an integer value, known as shift which indicates the number of position each letter of the text has been moved down."
   ]
  }
 ],
 "metadata": {
  "kernelspec": {
   "display_name": "Python 2",
   "language": "python",
   "name": "python2"
  },
  "language_info": {
   "codemirror_mode": {
    "name": "ipython",
    "version": 2
   },
   "file_extension": ".py",
   "mimetype": "text/x-python",
   "name": "python",
   "nbconvert_exporter": "python",
   "pygments_lexer": "ipython2",
   "version": "2.7.6"
  }
 },
 "nbformat": 4,
 "nbformat_minor": 0
}
