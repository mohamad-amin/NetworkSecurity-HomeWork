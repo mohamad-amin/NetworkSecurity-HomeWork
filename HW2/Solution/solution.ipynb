{
 "cells": [
  {
   "cell_type": "markdown",
   "metadata": {
    "collapsed": true
   },
   "source": [
    "# Network Security - Home Work 2\n",
    "### Mohamad Amin Mohamadi(9431020)\n",
    "\n",
    "## Question 1\n",
    "------"
   ]
  },
  {
   "cell_type": "code",
   "execution_count": 8,
   "metadata": {},
   "outputs": [
    {
     "name": "stdout",
     "output_type": "stream",
     "text": [
      "Secret: If you want to keep a secret, you must also hide it from yourself\nMD5 hashed secret: f868791dabbbba52bf6e7d9ca445a44b\nSHA256 hashed secret: aca0ba757235a44b8addac6f6419ecdbd37dcdd01661864e47de2ccf1bdef3b9\n"
     ]
    }
   ],
   "source": [
    "import hashlib\n",
    "\n",
    "secret = 'If you want to keep a secret, you must also hide it from yourself'\n",
    "md5_hasher = hashlib.md5(secret)\n",
    "sha256_hasher = hashlib.sha256(secret)\n",
    "\n",
    "print('Secret: %s' % secret)\n",
    "print('MD5 hashed secret: %s' % md5_hasher.hexdigest())\n",
    "print('SHA256 hashed secret: %s' % sha256_hasher.hexdigest())"
   ]
  },
  {
   "cell_type": "markdown",
   "metadata": {},
   "source": [
    "## Question 2\n",
    "--------"
   ]
  },
  {
   "cell_type": "code",
   "execution_count": 27,
   "metadata": {},
   "outputs": [
    {
     "name": "stdout",
     "output_type": "stream",
     "text": [
      "DES encrypted data in HEX format: 6cbd22858bcedb79aba1a7be2214c542\n"
     ]
    }
   ],
   "source": [
    "import pyDes\n",
    "\n",
    "key = '133457799BBCDFF1'.decode('hex')\n",
    "plain_text = '0123456789ABCDEF'\n",
    "desEncrypter = pyDes.des(key)\n",
    "encryptedDataInHex = desEncrypter.encrypt(plain_text).encode('hex')\n",
    "print('DES encrypted data in HEX format: %s' % encryptedDataInHex)"
   ]
  },
  {
   "cell_type": "code",
   "execution_count": null,
   "metadata": {},
   "outputs": [],
   "source": []
  }
 ],
 "metadata": {
  "kernelspec": {
   "display_name": "Python 2",
   "language": "python",
   "name": "python2"
  },
  "language_info": {
   "codemirror_mode": {
    "name": "ipython",
    "version": 2
   },
   "file_extension": ".py",
   "mimetype": "text/x-python",
   "name": "python",
   "nbconvert_exporter": "python",
   "pygments_lexer": "ipython2",
   "version": "2.7.6"
  }
 },
 "nbformat": 4,
 "nbformat_minor": 0
}
