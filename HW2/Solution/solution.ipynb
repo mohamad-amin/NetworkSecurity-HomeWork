{
 "cells": [
  {
   "cell_type": "markdown",
   "metadata": {
    "collapsed": true
   },
   "source": [
    "# Network Security - Home Work 2\n",
    "### Mohamad Amin Mohamadi(9431020)\n",
    "\n",
    "## Question 1\n",
    "------"
   ]
  },
  {
   "cell_type": "code",
   "execution_count": 8,
   "metadata": {},
   "outputs": [
    {
     "name": "stdout",
     "output_type": "stream",
     "text": [
      "Secret: If you want to keep a secret, you must also hide it from yourself\nMD5 hashed secret: f868791dabbbba52bf6e7d9ca445a44b\nSHA256 hashed secret: aca0ba757235a44b8addac6f6419ecdbd37dcdd01661864e47de2ccf1bdef3b9\n"
     ]
    }
   ],
   "source": [
    "import hashlib\n",
    "\n",
    "secret = 'If you want to keep a secret, you must also hide it from yourself'\n",
    "md5_hasher = hashlib.md5(secret)\n",
    "sha256_hasher = hashlib.sha256(secret)\n",
    "\n",
    "print('Secret: %s' % secret)\n",
    "print('MD5 hashed secret: %s' % md5_hasher.hexdigest())\n",
    "print('SHA256 hashed secret: %s' % sha256_hasher.hexdigest())"
   ]
  },
  {
   "cell_type": "markdown",
   "metadata": {},
   "source": [
    "## Question 2\n",
    "--------"
   ]
  },
  {
   "cell_type": "code",
   "execution_count": 27,
   "metadata": {},
   "outputs": [
    {
     "name": "stdout",
     "output_type": "stream",
     "text": [
      "DES encrypted data in HEX format: 6cbd22858bcedb79aba1a7be2214c542\n"
     ]
    }
   ],
   "source": [
    "import pyDes\n",
    "\n",
    "key = '133457799BBCDFF1'.decode('hex')\n",
    "plain_text = '0123456789ABCDEF'\n",
    "desEncrypter = pyDes.des(key)\n",
    "encryptedDataInHex = desEncrypter.encrypt(plain_text).encode('hex')\n",
    "print('DES encrypted data in HEX format: %s' % encryptedDataInHex)"
   ]
  },
  {
   "cell_type": "markdown",
   "metadata": {},
   "source": [
    "## Question 3\n",
    "We used the analyzer and did a brute force attack to find the shift number.\n",
    "The shift was *16* and here's the decrypted plain text:\n",
    "> The Caesar Cipher technique is one of the earliest and simplest method of encryption technique. It’s simply a type of substitution cipher, i.e., each letter of a given text is replaced by a letter some fixed number of positions down the alphabet. For example with a shift of 1, A would be replaced by B, B would become C, and so on. The method is apparently named after Julius Caesar, who apparently used it to\n",
    "communicate with his officials.\\\n",
    "Thus to cipher a given text we need an integer value, known as shift which indicates the number of position each letter of the text has been moved down."
   ]
  }
 ],
 "metadata": {
  "kernelspec": {
   "display_name": "Python 2",
   "language": "python",
   "name": "python2"
  },
  "language_info": {
   "codemirror_mode": {
    "name": "ipython",
    "version": 2
   },
   "file_extension": ".py",
   "mimetype": "text/x-python",
   "name": "python",
   "nbconvert_exporter": "python",
   "pygments_lexer": "ipython2",
   "version": "2.7.6"
  }
 },
 "nbformat": 4,
 "nbformat_minor": 0
}
