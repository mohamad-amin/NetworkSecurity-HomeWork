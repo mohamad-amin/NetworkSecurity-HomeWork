{
 "cells": [
  {
   "cell_type": "markdown",
   "metadata": {
    "collapsed": true
   },
   "source": [
    "# Network Security - Home Work 2\n",
    "### Mohamad Amin Mohamadi(9431020)\n",
    "\n",
    "## Question 1\n",
    "------"
   ]
  },
  {
   "cell_type": "code",
   "execution_count": 21,
   "metadata": {
    "collapsed": true
   },
   "outputs": [
    {
     "name": "stdout",
     "output_type": "stream",
     "text": [
      "f868791dabbbba52bf6e7d9ca445a44b\n1e150ee046e4e0a49278b4b5a2fb3373\n"
     ]
    }
   ],
   "source": [
    "import hashlib\n",
    "import binascii\n",
    "\n",
    "secret = 'If you want to keep a secret, you must also hide it from yourself'\n",
    "md5_hasher = hashlib.md5(secret)\n",
    "sha256_hasher = hashlib.sha256(secret)\n",
    "\n",
    "original_hashed_md5 = md5_hasher.hexdigest()\n",
    "original_hashed_sha256 = sha256_hasher.hexdigest()\n",
    "\n",
    "new_secret = secret[:-1]\n",
    "md5_hasher = hashlib.md5(new_secret)\n",
    "sha256_hasher = hashlib.sha256(new_secret)\n",
    "\n",
    "new_hashed_md5 = md5_hasher.hexdigest()\n",
    "new_hashed_sha256 = sha256_hasher.hexdigest()\n",
    "\n",
    "\n",
    "print(original_hashed_md5)\n",
    "print(new_hashed_md5)"
   ]
  },
  {
   "cell_type": "code",
   "execution_count": 22,
   "metadata": {
    "collapsed": false
   },
   "outputs": [
    {
     "name": "stdout",
     "output_type": "stream",
     "text": [
      "Secret: If you want to keep a secret, you must also hide it from yourself\nModified secret: If you want to keep a secret, you must also hide it from yoursel\n\nOriginal MD5 hashed secret: 11111000011010000111100100011101101010111011101110111010010100101011111101101110011111011001110010100100010001011010010001001011\nOriginal SHA256 hashed secret: 1010110010100000101110100111010101110010001101011010010001001011100010101101110110101100011011110110010000011001111011001101101111010011011111011100110111010000000101100110000110000110010011100100011111011110001011001100111100011011110111101111001110111001\nNew MD5 hashed secret: 11110000101010000111011100000010001101110010011100000101001001001001001111000101101001011010110100010111110110011001101110011\nNew SHA256 hashed secret: 10010110000010101001011000010000101100101010010010101111100100110101101101110101010000010001011010100010110101101001110011111101110111011100100001110011011111100000010111001010011011001001010101011001101010110111111100011100000111000100011110100110111100\nChange in MD5: 3\nChange in SHA256: 2\n"
     ]
    }
   ],
   "source": [
    "def hex_to_binary(hex_str):\n",
    "    return bin(int(hex_str, 16))[2:]\n",
    "\n",
    "\n",
    "print('Secret: %s' % secret)\n",
    "print('Modified secret: %s\\n' % new_secret)\n",
    "\n",
    "print('Original MD5 hashed secret: %s' % hex_to_binary(original_hashed_md5))\n",
    "print('Original SHA256 hashed secret: %s' % hex_to_binary(original_hashed_sha256))\n",
    "\n",
    "print('New MD5 hashed secret: %s' % hex_to_binary(new_hashed_md5))\n",
    "print('New SHA256 hashed secret: %s' % hex_to_binary(new_hashed_sha256))\n",
    "\n",
    "print('Change in MD5: %d' % (len(hex_to_binary(original_hashed_md5)) - len(hex_to_binary(new_hashed_md5))))\n",
    "print('Change in SHA256: %d' % (len(hex_to_binary(original_hashed_sha256)) - len(hex_to_binary(new_hashed_sha256))))"
   ]
  },
  {
   "cell_type": "markdown",
   "metadata": {},
   "source": [
    "## Question 2\n",
    "--------"
   ]
  },
  {
   "cell_type": "code",
   "execution_count": null,
   "metadata": {},
   "outputs": [
    {
     "name": "stdout",
     "output_type": "stream",
     "text": [
      "DES encrypted data in HEX format: 6cbd22858bcedb79aba1a7be2214c542\n"
     ]
    }
   ],
   "source": [
    "import pyDes\n",
    "\n",
    "key = '133457799BBCDFF1'.decode('hex')\n",
    "plain_text = '0123456789ABCDEF'\n",
    "desEncrypter = pyDes.des(key)\n",
    "encryptedDataInHex = desEncrypter.encrypt(plain_text).encode('hex')\n",
    "print('DES encrypted data in HEX format: %s' % encryptedDataInHex)"
   ]
  },
  {
   "cell_type": "markdown",
   "metadata": {},
   "source": [
    "## Question 3\n",
    "We used the analyzer and did a brute force attack to find the shift number.\n",
    "The shift was *16* and here's the decrypted plain text:\n",
    "> The Caesar Cipher technique is one of the earliest and simplest method of encryption technique. It’s simply a type of substitution cipher, i.e., each letter of a given text is replaced by a letter some fixed number of positions down the alphabet. For example with a shift of 1, A would be replaced by B, B would become C, and so on. The method is apparently named after Julius Caesar, who apparently used it to\n",
    "communicate with his officials.\\\n",
    "Thus to cipher a given text we need an integer value, known as shift which indicates the number of position each letter of the text has been moved down."
   ]
  }
 ],
 "metadata": {
  "kernelspec": {
   "display_name": "Python 2",
   "language": "python",
   "name": "python2"
  },
  "language_info": {
   "codemirror_mode": {
    "name": "ipython",
    "version": 2
   },
   "file_extension": ".py",
   "mimetype": "text/x-python",
   "name": "python",
   "nbconvert_exporter": "python",
   "pygments_lexer": "ipython2",
   "version": "2.7.6"
  }
 },
 "nbformat": 4,
 "nbformat_minor": 0
}
